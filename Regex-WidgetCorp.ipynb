{
 "cells": [
  {
   "cell_type": "code",
   "execution_count": 28,
   "metadata": {
    "collapsed": true
   },
   "outputs": [],
   "source": [
    "import re\n",
    "# text = open('data_files/Regex-WidgetCorp-data.txt','r').read()\n",
    "# lines = text.split('\\n')"
   ]
  },
  {
   "cell_type": "code",
   "execution_count": 27,
   "metadata": {
    "collapsed": false
   },
   "outputs": [],
   "source": [
    "text = \\\n",
    "\"\"\"WidgetCorp. Summary Productivity Report, 2016Q2\n",
    "Notes: Product Q12 is being phased out for the updated Q14 with higher margin. Demand continues \n",
    "for Q12 due to current lower price and market familiarity, but no further development or \n",
    "marketing will be allocated to Q12.   Y1 introduces our brand-new product line, just introduced \n",
    "in Q1.          \n",
    "\n",
    "|                                              Q1      Q1      Q1      Q2      Q2      Q2 |\n",
    "|Process        Prod.  Cost           Price   Jan     Feb     Mar     Apr     May     Jun |\n",
    "|-------------- ------ -------------- ----- -----   -----   -----   -----   -----   ----- |\n",
    "|Development    Y1      $28,500 total                                                     |\n",
    "|Development    Q12     $14,000 total                                                     |\n",
    "|Development    Q14      $6,500 total                                                     |\n",
    "|Manufacturing  Q12          $35/unit         250     250     200     200     200     100 |\n",
    "|Manufacturing  Q14          $29/unit          20      50      50     150     150     100 |\n",
    "|Manufacturing  Y1           $88/unit           0      10      20      32      30      40 |\n",
    "|Sales          Q12                     $85   214     210     192     165     159     190 |\n",
    "|Sales          Q14                     $99    42      50      49      72      51      75 |\n",
    "|Sales          Y1                     $199     0       0       2      14      16      22 |\n",
    "|Inventory      Q12    $0.10/mo./unit         500     536     526     534     569     510 |\n",
    "|Inventory      Q14    $0.10/mo./unit         200     208     208     309     387     436 |\n",
    "|Inventory      Y1     $0.18/mo./unit           0      10      30      60      76     100 |\n",
    "|Marketing      Brand                      $1,000  $1,000  $1,000  $1,000  $1,000  $1,000 |\n",
    "|Marketing      Q12                           $50     $50     $50      $0      $0      $0 |\n",
    "|Marketing      Q14                          $500    $500    $500    $500    $500    $500 |\n",
    "|Marketing      Y1                         $2,000  $2,000  $2,000  $1,000  $1,000  $1,000 |\"\"\"\n"
   ]
  },
  {
   "cell_type": "markdown",
   "metadata": {},
   "source": [
    "## Test your Team's Regex"
   ]
  },
  {
   "cell_type": "markdown",
   "metadata": {},
   "source": [
    "Put your team's regex into the following code to check whether it works exactly as intended.  Note that for some \n",
    "of the team patterns, you might need the re.MULTILINE flag turned on as shown below.  That changes the behavior of the  ^ and $ anchors:"
   ]
  },
  {
   "cell_type": "code",
   "execution_count": 43,
   "metadata": {
    "collapsed": false
   },
   "outputs": [
    {
     "name": "stdout",
     "output_type": "stream",
     "text": [
      "[]\n"
     ]
    }
   ],
   "source": [
    "print(re.findall(r'your-regex-pattern', text, flags=re.MULTILINE))"
   ]
  },
  {
   "cell_type": "markdown",
   "metadata": {},
   "source": [
    "## The following tests the name matching for team assignments:"
   ]
  },
  {
   "cell_type": "code",
   "execution_count": 10,
   "metadata": {
    "collapsed": true
   },
   "outputs": [],
   "source": [
    "import re\n",
    "names = ['Chen', 'Fang', 'Hermes', 'Ijaz', 'Johnson', 'Khatri', 'Ma', 'Qu', \n",
    "         'Silverstein', 'Song', 'Thornton', 'Wolfslayer', 'Zavala', 'Zhan', 'Zhang']\n",
    "name_string = '\\n'.join(names)"
   ]
  },
  {
   "cell_type": "code",
   "execution_count": 15,
   "metadata": {
    "collapsed": false
   },
   "outputs": [
    {
     "name": "stdout",
     "output_type": "stream",
     "text": [
      "Song\n",
      "Zavala\n",
      "Zhan\n",
      "Zhang\n"
     ]
    }
   ],
   "source": [
    "for name in names:\n",
    "    if re.search(r'([xNZq]|So)', name):\n",
    "        print(name)"
   ]
  },
  {
   "cell_type": "code",
   "execution_count": 16,
   "metadata": {
    "collapsed": false
   },
   "outputs": [
    {
     "name": "stdout",
     "output_type": "stream",
     "text": [
      "Chen\n",
      "Johnson\n",
      "Silverstein\n",
      "Thornton\n"
     ]
    }
   ],
   "source": [
    "for name in names:\n",
    "    if re.search(r'[^a]n$', name):\n",
    "        print(name)"
   ]
  },
  {
   "cell_type": "code",
   "execution_count": 13,
   "metadata": {
    "collapsed": false
   },
   "outputs": [
    {
     "name": "stdout",
     "output_type": "stream",
     "text": [
      "Hermes\n",
      "Ijaz\n",
      "Ma\n",
      "Qu\n"
     ]
    }
   ],
   "source": [
    "for name in names:\n",
    "    if re.search(r'[Mmuj]+', name):\n",
    "        print(name)"
   ]
  },
  {
   "cell_type": "code",
   "execution_count": 14,
   "metadata": {
    "collapsed": false
   },
   "outputs": [
    {
     "name": "stdout",
     "output_type": "stream",
     "text": [
      "Fang\n",
      "Khatri\n",
      "Wolfslayer\n"
     ]
    }
   ],
   "source": [
    "for name in names:\n",
    "    if re.search(r'([QSF]a|f|hat+)', name):\n",
    "        print(name)"
   ]
  }
 ],
 "metadata": {
  "anaconda-cloud": {},
  "kernelspec": {
   "display_name": "Python [default]",
   "language": "python",
   "name": "python3"
  },
  "language_info": {
   "codemirror_mode": {
    "name": "ipython",
    "version": 3
   },
   "file_extension": ".py",
   "mimetype": "text/x-python",
   "name": "python",
   "nbconvert_exporter": "python",
   "pygments_lexer": "ipython3",
   "version": "3.5.2"
  }
 },
 "nbformat": 4,
 "nbformat_minor": 1
}
