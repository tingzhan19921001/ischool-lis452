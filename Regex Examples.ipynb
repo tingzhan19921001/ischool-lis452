{
 "cells": [
  {
   "cell_type": "markdown",
   "metadata": {
    "nbpresent": {
     "id": "765eaae1-17eb-4d99-ad04-591cd9cbf1a8"
    }
   },
   "source": [
    "# Regex examples in Python for LIS452"
   ]
  },
  {
   "cell_type": "markdown",
   "metadata": {
    "nbpresent": {
     "id": "814560bb-4285-4787-a2b2-1dd995707d61"
    }
   },
   "source": [
    "Create some data to work with:"
   ]
  },
  {
   "cell_type": "code",
   "execution_count": 5,
   "metadata": {
    "collapsed": false,
    "nbpresent": {
     "id": "8dc35aa9-a1ed-4629-8bd2-ea604bd662a1"
    }
   },
   "outputs": [],
   "source": [
    "import re\n",
    "az = 'The quick brown fox jumped over the lazy dog.'\n",
    "name_list = ['Jane Jones','Jerry Jerrolds', 'Abby Abbot-Majors', 'Albert Einstein', 'Martin Luther', \n",
    "             'Martin Luther King, Jr.', 'Richard Richards', 'John Johnson', 'John Cleese', \n",
    "             'Eric Idle', 'Graham Chapman', 'Julius Cæsar', 'Sofía Vergara', 'Robert Robertson', \n",
    "             'Alexander McCall-Smith', 'Jeff MacNelly', \"Conan O'Brien\", 'Billy Connolly',\n",
    "             'Ronald McDonald', 'Apple Macintosh', 'Sir James Bond', 'Sir Ian McKellen', \n",
    "             'Sir Paul McCartney', 'Dame Judy Dench', 'Lord Robert Grantham', 'Dame Maggie Smith',\n",
    "             'Tyrion Lannister', 'Lord Eddard Stark', 'King Richard I', 'King Henry V', \n",
    "             'Julia Louis-Dreyfus', 'Lady Catelyn Stark', 'Lord Tywin Lannister', 'Ser Jamie Lannister',\n",
    "             'Jack Lord', 'Bobby McFerrin', 'Cher', 'Madonna', 'Mrs. Nora Charles',\n",
    "             'Queen Cersei Lannister', 'Daniel Michael Blake Day-Lewis', 'F. Scott Fitzgerald',\n",
    "             'J. R. R. Tolkien', 'Douglas Fairbanks, Senior', 'Sting', 'Joe Schmoe III', \n",
    "             'King Henry VIII', 'Br. Cadfael', 'Dr. Albert Schweitzer',\n",
    "             '孔子'  # 'Master Kong' (Confucius)\n",
    "            ]\n",
    "name_list.sort()  # alphabetize the list\n",
    "names = '; '.join(name_list)"
   ]
  },
  {
   "cell_type": "code",
   "execution_count": 6,
   "metadata": {
    "collapsed": false,
    "nbpresent": {
     "id": "400d9c1f-9bd5-4d82-a85b-791f858ccb5a"
    }
   },
   "outputs": [
    {
     "data": {
      "text/plain": [
       "\"Abby Abbot-Majors; Albert Einstein; Alexander McCall-Smith; Apple Macintosh; Billy Connolly; Bobby McFerrin; Br. Cadfael; Cher; Conan O'Brien; Dame Judy Dench; Dame Maggie Smith; Daniel Michael Blake Day-Lewis; Douglas Fairbanks, Senior; Dr. Albert Schweitzer; Eric Idle; F. Scott Fitzgerald; Graham Chapman; J. R. R. Tolkien; Jack Lord; Jane Jones; Jeff MacNelly; Jerry Jerrolds; Joe Schmoe III; John Cleese; John Johnson; Julia Louis-Dreyfus; Julius Cæsar; King Henry V; King Henry VIII; King Richard I; Lady Catelyn Stark; Lord Eddard Stark; Lord Robert Grantham; Lord Tywin Lannister; Madonna; Martin Luther; Martin Luther King, Jr.; Mrs. Nora Charles; Queen Cersei Lannister; Richard Richards; Robert Robertson; Ronald McDonald; Ser Jamie Lannister; Sir Ian McKellen; Sir James Bond; Sir Paul McCartney; Sofía Vergara; Sting; Tyrion Lannister; 孔子\""
      ]
     },
     "execution_count": 6,
     "metadata": {},
     "output_type": "execute_result"
    }
   ],
   "source": [
    "names"
   ]
  },
  {
   "cell_type": "markdown",
   "metadata": {
    "nbpresent": {
     "id": "8d3e5fac-0bf7-43c4-86b7-ac14ed1e680a"
    }
   },
   "source": [
    "## Raw strings in Python\n",
    "Get in the habit of using **raw strings** for your patterns because it'll be simpler when you have backslashes in the patterns (which are common)."
   ]
  },
  {
   "cell_type": "code",
   "execution_count": 7,
   "metadata": {
    "collapsed": false,
    "nbpresent": {
     "id": "2d693595-4bf2-40c9-97d4-e8e892b1e0f2"
    }
   },
   "outputs": [
    {
     "name": "stdout",
     "output_type": "stream",
     "text": [
      "This regular string has a single backslash: \\ but I had to escape it with an extra one.\n",
      "This raw string contains a single \\ and doesn't need the escaping\n"
     ]
    }
   ],
   "source": [
    "print(\"This regular string has a single backslash: \\\\ but I had to escape it with an extra one.\")\n",
    "print(r\"This raw string contains a single \\ and doesn't need the escaping\")"
   ]
  },
  {
   "cell_type": "markdown",
   "metadata": {
    "nbpresent": {
     "id": "5ae066b7-ffae-4b1f-b449-b1c492f791a7"
    }
   },
   "source": [
    "## `re.search()` for simple True/False match decisions\n",
    "From name_list, print the items with hyphens:"
   ]
  },
  {
   "cell_type": "code",
   "execution_count": null,
   "metadata": {
    "collapsed": false,
    "nbpresent": {
     "id": "713dc61e-8083-49cd-abf4-ab158c087a08"
    },
    "scrolled": true
   },
   "outputs": [],
   "source": [
    "for name in name_list:\n",
    "    if re.search(r'-', name):\n",
    "        print(name)"
   ]
  },
  {
   "cell_type": "markdown",
   "metadata": {
    "nbpresent": {
     "id": "a5fe1879-6a24-4b4c-acf1-37cb11398821"
    }
   },
   "source": [
    "## `re.findall()` and a capture group to get a list of matches\n",
    "To do the same as above, but extracting from one big string containing all the names, we have to make the regex pattern more complex. That's because it has to find where the names begin and end (in this case, delimited by semicolons), and using a **capture group**:"
   ]
  },
  {
   "cell_type": "code",
   "execution_count": null,
   "metadata": {
    "collapsed": false,
    "nbpresent": {
     "id": "f71332ee-8f2d-473d-ac80-4439d0b3458f"
    }
   },
   "outputs": [],
   "source": [
    "matches = re.findall(r'([^;]+-[^;]+)', names)\n",
    "print(matches)"
   ]
  },
  {
   "cell_type": "markdown",
   "metadata": {},
   "source": [
    "Find all the Lannisters:"
   ]
  },
  {
   "cell_type": "code",
   "execution_count": null,
   "metadata": {
    "collapsed": false
   },
   "outputs": [],
   "source": [
    "for name in name_list:\n",
    "    if re.search(r'', name):\n",
    "        print(name)"
   ]
  },
  {
   "cell_type": "markdown",
   "metadata": {
    "nbpresent": {
     "id": "f3e27c9e-2a72-4a8a-8286-4a3dfbf10563"
    }
   },
   "source": [
    "## simple validation of input:"
   ]
  },
  {
   "cell_type": "code",
   "execution_count": null,
   "metadata": {
    "collapsed": false,
    "nbpresent": {
     "id": "32ee6a69-10a9-445e-b0b9-32916946eb60"
    }
   },
   "outputs": [],
   "source": [
    "s = input('Enter a string and I will determine if it is purely digits')\n",
    "if re.search(r'', s):\n",
    "    print('Yes, it is purely digital.')\n",
    "else:\n",
    "    print('Nope.')"
   ]
  },
  {
   "cell_type": "markdown",
   "metadata": {
    "nbpresent": {
     "id": "91b06cb8-fe82-4e9d-82e7-e6721d1f8b1d"
    }
   },
   "source": [
    "List the names of all Kings, Queens, Lords, Ladies, Dames, and Sirs or Sers. Notice we have to be careful -- names like *Jack Lord* could incorrectly match:"
   ]
  },
  {
   "cell_type": "code",
   "execution_count": null,
   "metadata": {
    "collapsed": false,
    "nbpresent": {
     "id": "1437431d-162a-4eee-8c00-cd3bae8eefec"
    }
   },
   "outputs": [],
   "source": [
    "for name in name_list:\n",
    "    if re.search(r'', name):\n",
    "        print(name)"
   ]
  },
  {
   "cell_type": "markdown",
   "metadata": {
    "nbpresent": {
     "id": "d6498ce2-66ad-49a3-9fc9-2a0134d4b593"
    }
   },
   "source": [
    "List all the single word names like *Sting*:"
   ]
  },
  {
   "cell_type": "code",
   "execution_count": null,
   "metadata": {
    "collapsed": true
   },
   "outputs": [],
   "source": []
  },
  {
   "cell_type": "markdown",
   "metadata": {
    "nbpresent": {
     "id": "04d7ead9-6170-4914-8efd-441239f0323d"
    }
   },
   "source": [
    "List the names that look Irish or Scottish. (Last names starting with *O'...*, *Mac*, or *Mc* followed by a capital letter)  So *Macintosh* should not match:"
   ]
  },
  {
   "cell_type": "code",
   "execution_count": null,
   "metadata": {
    "collapsed": true,
    "nbpresent": {
     "id": "20f55b56-9740-4e5b-8410-3010868f9012"
    }
   },
   "outputs": [],
   "source": []
  },
  {
   "cell_type": "markdown",
   "metadata": {
    "nbpresent": {
     "id": "ee072635-ad0f-4b11-9593-a07c05abd61a"
    }
   },
   "source": [
    "List the names of Kings, Queens, Lords, Ladies, Dames, and Sirs or Sers, but DON'T include their title:"
   ]
  },
  {
   "cell_type": "code",
   "execution_count": 8,
   "metadata": {
    "collapsed": false,
    "nbpresent": {
     "id": "ab74a787-6239-479f-85f0-a1f85f05edc3"
    }
   },
   "outputs": [
    {
     "name": "stdout",
     "output_type": "stream",
     "text": [
      "['Judy Dench', 'Maggie Smith', 'Henry V', 'Henry VIII', 'Richard I', 'Catelyn Stark', 'Eddard Stark', 'Robert Grantham', 'Tywin Lannister', 'Cersei Lannister', 'Jamie Lannister', 'Ian McKellen', 'James Bond', 'Paul McCartney']\n"
     ]
    }
   ],
   "source": [
    "matches = re.findall(r'(?:[^;]+(?:King|Queen|Lord|Lady|Dame|Sir|Ser)\\s+)([^;]+)', names)\n",
    "print(matches)"
   ]
  },
  {
   "cell_type": "markdown",
   "metadata": {
    "nbpresent": {
     "id": "7cd2508f-7953-49c9-9a28-ca3b9f8ada8f"
    }
   },
   "source": [
    "List the names that have non-English letters or glyphs in them:"
   ]
  },
  {
   "cell_type": "code",
   "execution_count": null,
   "metadata": {
    "collapsed": false,
    "nbpresent": {
     "id": "bca92820-9456-4365-bc57-2ab55d4e5431"
    }
   },
   "outputs": [],
   "source": [
    "for name in name_list:\n",
    "    if re.search(r'[^\\w\\s\\-\\',\\.]', name, flags=re.ASCII):\n",
    "        print(name)"
   ]
  },
  {
   "cell_type": "markdown",
   "metadata": {
    "nbpresent": {
     "id": "f4e668fa-9201-41b0-bd95-09b70657abc2"
    }
   },
   "source": [
    "Do the same but without the `re.ASCII` *flag*, using more specific `[a-zA-Z]` instead of `\\w` to match letters. `\\w` by default matches any letter or wordglyph defined in Unicode."
   ]
  },
  {
   "cell_type": "code",
   "execution_count": null,
   "metadata": {
    "collapsed": false,
    "nbpresent": {
     "id": "02f17a05-eccc-44b1-867d-bef24902ffce"
    }
   },
   "outputs": [],
   "source": [
    "for name in name_list:\n",
    "    if re.search(r'[^a-zA-Z\\s\\-\\',\\.]', name):\n",
    "        print(name)"
   ]
  },
  {
   "cell_type": "markdown",
   "metadata": {
    "nbpresent": {
     "id": "6a5fe196-ea35-40ab-9d35-7e1a7dbace2c"
    }
   },
   "source": [
    "List the names that are repetitive in the way that *'John Johnson'* or *'Rob Roberts'* are:"
   ]
  },
  {
   "cell_type": "code",
   "execution_count": null,
   "metadata": {
    "collapsed": true,
    "nbpresent": {
     "id": "151e519b-4e14-469c-9730-ade9aba466a0"
    }
   },
   "outputs": [],
   "source": []
  },
  {
   "cell_type": "markdown",
   "metadata": {
    "collapsed": true
   },
   "source": [
    "## multiple capture groups in one pattern\n",
    "## verbose commented regexes\n",
    "Separate names into their parts: Title, First name, Middle Name or Initial, Last name, Suffix.  Because of the variety of name formats I included in this short list, the regex to properly separate them out is fairly complex. So I've used  the `re.VERBOSE` flag that allows commenting and formatting for better readability."
   ]
  },
  {
   "cell_type": "code",
   "execution_count": null,
   "metadata": {
    "collapsed": false
   },
   "outputs": [],
   "source": [
    "print('     Title       First              Middle                Last    Suffix')  # column headings\n",
    "print('---------- ----------- ------------------- ------------------- ---------')\n",
    "for name in name_list:\n",
    "    m = re.search(r\"\"\"\\A  # anchor at start of string\n",
    "                    (Mr\\.|Mrs\\.|Fr\\.|Br\\.|Dr\\.|Sir|Ser|Lord|Lady|Dame|Master|King|Queen|) # title or nothing\n",
    "                    \\s?              # possible space\n",
    "                    ([\\w\\.]+)\\s*     # First name or initial.\n",
    "                    ([\\w\\.\\ ]*?)\\s*  # Middle name(s) or initial(s)\n",
    "                    ([\\w\\-\\']*?)\\s*  # Last name, allowing hyphens\n",
    "                    (?:,\\s+)?        # optionally match a comma and spaces without capturing\n",
    "                    (Jr\\.|Sr\\.|Junior|Senior|[IVX]+|)  # things like \"Jr.\" or \"VIII\"\n",
    "                    \\Z  # anchor at end of string\n",
    "                    \"\"\", name, flags=re.VERBOSE)\n",
    "    print('{0: >10}'.format(m.group(1)), end='')\n",
    "    print('{0: >12}'.format(m.group(2)), end='')\n",
    "    print('{0: >20}'.format(m.group(3)), end='')\n",
    "    print('{0: >20}'.format(m.group(4)), end='')\n",
    "    print('{0: >10}'.format(m.group(5)))"
   ]
  },
  {
   "cell_type": "markdown",
   "metadata": {},
   "source": [
    "## Named groups\n",
    "This is identical to the previous example, except each *match group* has been assigned a name in the regex. So it produces a result of matches we access by name instead of position. It's similar to the keys of a dictionary vs. a list."
   ]
  },
  {
   "cell_type": "code",
   "execution_count": 4,
   "metadata": {
    "collapsed": false
   },
   "outputs": [
    {
     "name": "stdout",
     "output_type": "stream",
     "text": [
      "     Title       First              Middle                Last    Suffix\n",
      "---------- ----------- ------------------- ------------------- ---------\n",
      "                  Abby                            Abbot-Majors          \n",
      "                Albert                                Einstein          \n",
      "             Alexander                            McCall-Smith          \n",
      "                 Apple                               Macintosh          \n",
      "                 Billy                                Connolly          \n",
      "                 Bobby                                McFerrin          \n",
      "       Br.     Cadfael                                                  \n",
      "                  Cher                                                  \n",
      "                 Conan                                 O'Brien          \n",
      "      Dame        Judy                                   Dench          \n",
      "      Dame      Maggie                                   Smith          \n",
      "                Daniel       Michael Blake           Day-Lewis          \n",
      "               Douglas                               Fairbanks    Senior\n",
      "       Dr.      Albert                              Schweitzer          \n",
      "                  Eric                                    Idle          \n",
      "                    F.               Scott          Fitzgerald          \n",
      "                Graham                                 Chapman          \n",
      "                    J.               R. R.             Tolkein          \n",
      "                  Jack                                    Lord          \n",
      "                  Jane                                   Jones          \n",
      "                  Jeff                                MacNelly          \n",
      "                 Jerry                                Jerrolds          \n",
      "                   Joe                                  Schmoe       III\n",
      "                  John                                  Cleese          \n",
      "                  John                                 Johnson          \n",
      "                 Julia                           Louis-Dreyfus          \n",
      "                Julius                                   Cæsar          \n",
      "      King       Henry                                                 V\n",
      "      King       Henry                                              VIII\n",
      "      King     Richard                                                 I\n",
      "      Lady     Catelyn                                   Stark          \n",
      "      Lord      Eddard                                   Stark          \n",
      "      Lord      Robert                                Grantham          \n",
      "      Lord       Tywin                               Lannister          \n",
      "               Madonna                                                  \n",
      "                Martin                                  Luther          \n",
      "                Martin              Luther                King       Jr.\n",
      "      Mrs.        Nora                                 Charles          \n",
      "     Queen      Cersei                               Lannister          \n",
      "               Richard                                Richards          \n",
      "                Robert                               Robertson          \n",
      "                Ronald                                McDonald          \n",
      "       Ser       Jamie                               Lannister          \n",
      "       Sir         Ian                                McKellen          \n",
      "       Sir       James                                    Bond          \n",
      "       Sir        Paul                               McCartney          \n",
      "                 Sofía                                 Vergara          \n",
      "                 Sting                                                  \n",
      "                Tyrion                               Lannister          \n",
      "                    孔子                                                  \n"
     ]
    }
   ],
   "source": [
    "print('     Title       First              Middle                Last    Suffix')  # column headings\n",
    "print('---------- ----------- ------------------- ------------------- ---------')\n",
    "for name in name_list:\n",
    "    m = re.search(r\"\"\"\\A  # anchor at start of string\n",
    "                    (?P<title>Mr\\.|Mrs\\.|Fr\\.|Br\\.|Dr\\.|Sir|Ser|Lord|Lady|Dame|Master|King|Queen|) # title or nothing\n",
    "                    \\s?  # possible space\n",
    "                    (?P<first>[\\w\\.]+)\\s*    # First name or initial.\n",
    "                    (?P<mid>[\\w\\.\\ ]*?)\\s*   # Middle name(s) or initial(s)\n",
    "                    (?P<last>[\\w\\-\\']*?)\\s*  # Last name, allowing hyphens\n",
    "                    (?:,\\s+)?                # optionally match a comma and spaces without capturing\n",
    "                    (?P<suffix>Jr\\.|Sr\\.|Junior|Senior|[IVX]+|)  # things like \"Jr.\" or \"VIII\"\n",
    "                    \\Z  # anchor at end of string\n",
    "                    \"\"\", name, flags=re.VERBOSE)\n",
    "    print('{0: >10}'.format(m.group('title')), end='')\n",
    "    print('{0: >12}'.format(m.group('first')), end='')\n",
    "    print('{0: >20}'.format(m.group('mid')), end='')\n",
    "    print('{0: >20}'.format(m.group('last')), end='')\n",
    "    print('{0: >10}'.format(m.group('suffix')))"
   ]
  },
  {
   "cell_type": "code",
   "execution_count": null,
   "metadata": {
    "collapsed": true,
    "nbpresent": {
     "id": "204f7851-e4c4-401f-a95b-ab77ffa66035"
    }
   },
   "outputs": [],
   "source": [
    "utopia = open('../lis452-solutions/data_files/utopia.txt','r').read()\n",
    "gulliver = open('../lis452-solutions/data_files/gulliver.txt','r').read()\n",
    "gulliver_orig = open('../lis452-solutions/data_files/17157-8.txt','r', encoding='ISO-8859-1').read()"
   ]
  }
 ],
 "metadata": {
  "anaconda-cloud": {},
  "kernelspec": {
   "display_name": "Python [default]",
   "language": "python",
   "name": "python3"
  },
  "language_info": {
   "codemirror_mode": {
    "name": "ipython",
    "version": 3
   },
   "file_extension": ".py",
   "mimetype": "text/x-python",
   "name": "python",
   "nbconvert_exporter": "python",
   "pygments_lexer": "ipython3",
   "version": "3.5.2"
  },
  "nbpresent": {
   "slides": {},
   "themes": {}
  }
 },
 "nbformat": 4,
 "nbformat_minor": 1
}
